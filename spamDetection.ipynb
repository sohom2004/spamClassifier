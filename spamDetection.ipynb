{
 "cells": [
  {
   "cell_type": "code",
   "execution_count": null,
   "id": "cd02b4ad",
   "metadata": {},
   "outputs": [
    {
     "name": "stderr",
     "output_type": "stream",
     "text": [
      "[nltk_data] Downloading package stopwords to\n",
      "[nltk_data]     C:\\Users\\Sohom\\AppData\\Roaming\\nltk_data...\n",
      "[nltk_data]   Package stopwords is already up-to-date!\n",
      "[nltk_data] Downloading package punkt to\n",
      "[nltk_data]     C:\\Users\\Sohom\\AppData\\Roaming\\nltk_data...\n",
      "[nltk_data]   Package punkt is already up-to-date!\n",
      "[nltk_data] Downloading package punkt_tab to\n",
      "[nltk_data]     C:\\Users\\Sohom\\AppData\\Roaming\\nltk_data...\n",
      "[nltk_data]   Package punkt_tab is already up-to-date!\n",
      "[nltk_data] Downloading package averaged_perceptron_tagger_eng to\n",
      "[nltk_data]     C:\\Users\\Sohom\\AppData\\Roaming\\nltk_data...\n",
      "[nltk_data]   Package averaged_perceptron_tagger_eng is already up-to-\n",
      "[nltk_data]       date!\n",
      "'unzip' is not recognized as an internal or external command,\n",
      "operable program or batch file.\n"
     ]
    },
    {
     "name": "stdout",
     "output_type": "stream",
     "text": [
      "Requirement already satisfied: wordcloud in d:\\onedrive\\desktop\\python\\phase2\\spam\\spamdetection\\lib\\site-packages (1.9.4)\n",
      "Requirement already satisfied: numpy>=1.6.1 in d:\\onedrive\\desktop\\python\\phase2\\spam\\spamdetection\\lib\\site-packages (from wordcloud) (2.1.3)\n",
      "Requirement already satisfied: pillow in d:\\onedrive\\desktop\\python\\phase2\\spam\\spamdetection\\lib\\site-packages (from wordcloud) (11.2.1)\n",
      "Requirement already satisfied: matplotlib in d:\\onedrive\\desktop\\python\\phase2\\spam\\spamdetection\\lib\\site-packages (from wordcloud) (3.10.1)\n",
      "Requirement already satisfied: contourpy>=1.0.1 in d:\\onedrive\\desktop\\python\\phase2\\spam\\spamdetection\\lib\\site-packages (from matplotlib->wordcloud) (1.3.2)\n",
      "Requirement already satisfied: cycler>=0.10 in d:\\onedrive\\desktop\\python\\phase2\\spam\\spamdetection\\lib\\site-packages (from matplotlib->wordcloud) (0.12.1)\n",
      "Requirement already satisfied: fonttools>=4.22.0 in d:\\onedrive\\desktop\\python\\phase2\\spam\\spamdetection\\lib\\site-packages (from matplotlib->wordcloud) (4.57.0)\n",
      "Requirement already satisfied: kiwisolver>=1.3.1 in d:\\onedrive\\desktop\\python\\phase2\\spam\\spamdetection\\lib\\site-packages (from matplotlib->wordcloud) (1.4.8)\n",
      "Requirement already satisfied: packaging>=20.0 in d:\\onedrive\\desktop\\python\\phase2\\spam\\spamdetection\\lib\\site-packages (from matplotlib->wordcloud) (25.0)\n",
      "Requirement already satisfied: pyparsing>=2.3.1 in d:\\onedrive\\desktop\\python\\phase2\\spam\\spamdetection\\lib\\site-packages (from matplotlib->wordcloud) (3.2.3)\n",
      "Requirement already satisfied: python-dateutil>=2.7 in d:\\onedrive\\desktop\\python\\phase2\\spam\\spamdetection\\lib\\site-packages (from matplotlib->wordcloud) (2.9.0.post0)\n",
      "Requirement already satisfied: six>=1.5 in d:\\onedrive\\desktop\\python\\phase2\\spam\\spamdetection\\lib\\site-packages (from python-dateutil>=2.7->matplotlib->wordcloud) (1.17.0)\n"
     ]
    },
    {
     "name": "stderr",
     "output_type": "stream",
     "text": [
      "\n",
      "[notice] A new release of pip is available: 23.2.1 -> 25.1\n",
      "[notice] To update, run: python.exe -m pip install --upgrade pip\n"
     ]
    }
   ],
   "source": [
    "# Core Libraries\n",
    "import numpy as np\n",
    "import pandas as pd\n",
    "import random\n",
    "import os\n",
    "import re\n",
    "import pickle\n",
    "\n",
    "# Data Visualization\n",
    "import matplotlib.pyplot as plt\n",
    "import seaborn as sns\n",
    "\n",
    "# Natural Language Processing (NLP)\n",
    "import nltk\n",
    "from nltk.corpus import stopwords\n",
    "from nltk import word_tokenize,sent_tokenize\n",
    "from nltk.stem import WordNetLemmatizer\n",
    "from nltk import pos_tag\n",
    "\n",
    "nltk.download('stopwords')\n",
    "nltk.download('punkt')\n",
    "nltk.download('punkt_tab')\n",
    "nltk.download('averaged_perceptron_tagger_eng')\n",
    "!unzip /usr/share/nltk_data/corpora/wordnet.zip -d /usr/share/nltk_data/corpora/\n",
    "!pip install wordcloud\n",
    "\n",
    "\n",
    "# Model Training & Evaluation\n",
    "from sklearn.model_selection import StratifiedKFold, cross_val_score,train_test_split\n",
    "\n",
    "from sklearn.metrics import (\n",
    "    accuracy_score, precision_score, \n",
    "     confusion_matrix, classification_report,precision_recall_curve,roc_curve,auc\n",
    ")\n",
    "\n",
    "from sklearn.utils.class_weight import compute_class_weight\n",
    "\n",
    "# Deep Learning (TensorFlow/Keras)\n",
    "import tensorflow as tf\n",
    "from tensorflow.keras.preprocessing.text import Tokenizer\n",
    "from tensorflow.keras.preprocessing.sequence import pad_sequences\n",
    "from tensorflow.keras.models import Sequential\n",
    "from tensorflow.keras.layers import Embedding, LSTM, Dense, Dropout, Bidirectional,GRU\n",
    "from tensorflow.keras.callbacks import EarlyStopping\n",
    "from tensorflow.keras.optimizers import Adam\n",
    "\n",
    "# Set seed for reproducibility\n",
    "SEED = 42\n",
    "np.random.seed(SEED)\n",
    "random.seed(SEED)\n",
    "tf.random.set_seed(SEED)"
   ]
  },
  {
   "cell_type": "code",
   "execution_count": 2,
   "id": "31ca0c29",
   "metadata": {},
   "outputs": [
    {
     "data": {
      "text/html": [
       "<div>\n",
       "<style scoped>\n",
       "    .dataframe tbody tr th:only-of-type {\n",
       "        vertical-align: middle;\n",
       "    }\n",
       "\n",
       "    .dataframe tbody tr th {\n",
       "        vertical-align: top;\n",
       "    }\n",
       "\n",
       "    .dataframe thead th {\n",
       "        text-align: right;\n",
       "    }\n",
       "</style>\n",
       "<table border=\"1\" class=\"dataframe\">\n",
       "  <thead>\n",
       "    <tr style=\"text-align: right;\">\n",
       "      <th></th>\n",
       "      <th>v1</th>\n",
       "      <th>v2</th>\n",
       "      <th>Unnamed: 2</th>\n",
       "      <th>Unnamed: 3</th>\n",
       "      <th>Unnamed: 4</th>\n",
       "    </tr>\n",
       "  </thead>\n",
       "  <tbody>\n",
       "    <tr>\n",
       "      <th>0</th>\n",
       "      <td>ham</td>\n",
       "      <td>Go until jurong point, crazy.. Available only ...</td>\n",
       "      <td>NaN</td>\n",
       "      <td>NaN</td>\n",
       "      <td>NaN</td>\n",
       "    </tr>\n",
       "    <tr>\n",
       "      <th>1</th>\n",
       "      <td>ham</td>\n",
       "      <td>Ok lar... Joking wif u oni...</td>\n",
       "      <td>NaN</td>\n",
       "      <td>NaN</td>\n",
       "      <td>NaN</td>\n",
       "    </tr>\n",
       "    <tr>\n",
       "      <th>2</th>\n",
       "      <td>spam</td>\n",
       "      <td>Free entry in 2 a wkly comp to win FA Cup fina...</td>\n",
       "      <td>NaN</td>\n",
       "      <td>NaN</td>\n",
       "      <td>NaN</td>\n",
       "    </tr>\n",
       "    <tr>\n",
       "      <th>3</th>\n",
       "      <td>ham</td>\n",
       "      <td>U dun say so early hor... U c already then say...</td>\n",
       "      <td>NaN</td>\n",
       "      <td>NaN</td>\n",
       "      <td>NaN</td>\n",
       "    </tr>\n",
       "    <tr>\n",
       "      <th>4</th>\n",
       "      <td>ham</td>\n",
       "      <td>Nah I don't think he goes to usf, he lives aro...</td>\n",
       "      <td>NaN</td>\n",
       "      <td>NaN</td>\n",
       "      <td>NaN</td>\n",
       "    </tr>\n",
       "  </tbody>\n",
       "</table>\n",
       "</div>"
      ],
      "text/plain": [
       "     v1                                                 v2 Unnamed: 2  \\\n",
       "0   ham  Go until jurong point, crazy.. Available only ...        NaN   \n",
       "1   ham                      Ok lar... Joking wif u oni...        NaN   \n",
       "2  spam  Free entry in 2 a wkly comp to win FA Cup fina...        NaN   \n",
       "3   ham  U dun say so early hor... U c already then say...        NaN   \n",
       "4   ham  Nah I don't think he goes to usf, he lives aro...        NaN   \n",
       "\n",
       "  Unnamed: 3 Unnamed: 4  \n",
       "0        NaN        NaN  \n",
       "1        NaN        NaN  \n",
       "2        NaN        NaN  \n",
       "3        NaN        NaN  \n",
       "4        NaN        NaN  "
      ]
     },
     "execution_count": 2,
     "metadata": {},
     "output_type": "execute_result"
    }
   ],
   "source": [
    "df = pd.read_csv('spam.csv', encoding='latin-1')\n",
    "df.head()"
   ]
  },
  {
   "cell_type": "code",
   "execution_count": 3,
   "id": "a0bd721b",
   "metadata": {},
   "outputs": [
    {
     "name": "stdout",
     "output_type": "stream",
     "text": [
      "<class 'pandas.core.frame.DataFrame'>\n",
      "RangeIndex: 5572 entries, 0 to 5571\n",
      "Data columns (total 5 columns):\n",
      " #   Column      Non-Null Count  Dtype \n",
      "---  ------      --------------  ----- \n",
      " 0   v1          5572 non-null   object\n",
      " 1   v2          5572 non-null   object\n",
      " 2   Unnamed: 2  50 non-null     object\n",
      " 3   Unnamed: 3  12 non-null     object\n",
      " 4   Unnamed: 4  6 non-null      object\n",
      "dtypes: object(5)\n",
      "memory usage: 217.8+ KB\n"
     ]
    }
   ],
   "source": [
    "df.info()"
   ]
  },
  {
   "cell_type": "code",
   "execution_count": 4,
   "id": "a2c4da9f",
   "metadata": {},
   "outputs": [
    {
     "name": "stdout",
     "output_type": "stream",
     "text": [
      "\n",
      "----- Dataset Overview -----\n",
      "Dataset shape: (5572, 5)\n",
      "First 5 rows:\n",
      "      v1                                                 v2 Unnamed: 2  \\\n",
      "0   ham  Go until jurong point, crazy.. Available only ...        NaN   \n",
      "1   ham                      Ok lar... Joking wif u oni...        NaN   \n",
      "2  spam  Free entry in 2 a wkly comp to win FA Cup fina...        NaN   \n",
      "3   ham  U dun say so early hor... U c already then say...        NaN   \n",
      "4   ham  Nah I don't think he goes to usf, he lives aro...        NaN   \n",
      "\n",
      "  Unnamed: 3 Unnamed: 4  \n",
      "0        NaN        NaN  \n",
      "1        NaN        NaN  \n",
      "2        NaN        NaN  \n",
      "3        NaN        NaN  \n",
      "4        NaN        NaN  \n"
     ]
    }
   ],
   "source": [
    "print(\"\\n----- Dataset Overview -----\")\n",
    "print(\"Dataset shape:\", df.shape)\n",
    "print(\"First 5 rows:\\n\", df.head(5))"
   ]
  },
  {
   "cell_type": "code",
   "execution_count": 5,
   "id": "ef3eb3d0",
   "metadata": {},
   "outputs": [],
   "source": [
    "df = df[['v1', 'v2']]\n",
    "df.columns = ['label', 'message']\n",
    "\n",
    "df['label'] = df['label'].map({'ham': 0, 'spam': 1})"
   ]
  },
  {
   "cell_type": "code",
   "execution_count": 6,
   "id": "f93452db",
   "metadata": {},
   "outputs": [],
   "source": [
    "df[\"No_of_Characters\"] = df[\"message\"].apply(len)\n",
    "df[\"No_of_Words\"] = df.apply(lambda row: word_tokenize(row[\"message\"]), axis=1).apply(len)\n",
    "df[\"No_of_sentence\"] = df.apply(lambda row: sent_tokenize(row[\"message\"]), axis=1).apply(len)"
   ]
  },
  {
   "cell_type": "code",
   "execution_count": 7,
   "id": "bb35ef1a",
   "metadata": {},
   "outputs": [],
   "source": [
    "stop_words = set(stopwords.words(\"english\"))\n",
    "spam_words = ' '.join(df[df['label'] == 1]['message'])\n",
    "ham_words = ' '.join(df[df['label'] == 0]['message'])"
   ]
  },
  {
   "cell_type": "code",
   "execution_count": 8,
   "id": "031d01ee",
   "metadata": {},
   "outputs": [
    {
     "name": "stdout",
     "output_type": "stream",
     "text": [
      "\n",
      "----- Data Quality Check -----\n",
      "Missing values:\n",
      " label               0\n",
      "message             0\n",
      "No_of_Characters    0\n",
      "No_of_Words         0\n",
      "No_of_sentence      0\n",
      "dtype: int64\n",
      "Duplicate rows: 403\n"
     ]
    }
   ],
   "source": [
    "print(\"\\n----- Data Quality Check -----\")\n",
    "print(\"Missing values:\\n\", df.isnull().sum())\n",
    "print(\"Duplicate rows:\", df.duplicated().sum())"
   ]
  },
  {
   "cell_type": "code",
   "execution_count": 9,
   "id": "4a4c867f",
   "metadata": {},
   "outputs": [
    {
     "name": "stdout",
     "output_type": "stream",
     "text": [
      "New dataset shape after removing duplicates: (5169, 5)\n"
     ]
    }
   ],
   "source": [
    "df.drop_duplicates(inplace=True)\n",
    "print(\"New dataset shape after removing duplicates:\", df.shape)"
   ]
  },
  {
   "cell_type": "markdown",
   "id": "4b306d35",
   "metadata": {},
   "source": [
    "Removing outliers"
   ]
  },
  {
   "cell_type": "code",
   "execution_count": 10,
   "id": "81159d8f",
   "metadata": {},
   "outputs": [],
   "source": [
    "def remove_outliers_iqr(df, column):\n",
    "    Q1 = df[column].quantile(0.25)\n",
    "    Q3 = df[column].quantile(0.75)\n",
    "    IQR = Q3 - Q1\n",
    "    lower_bound = Q1 - 1.5 * IQR\n",
    "    upper_bound = Q3 + 1.5 * IQR\n",
    "    return df[(df[column] >= lower_bound) & (df[column] <= upper_bound)]\n",
    "\n",
    "df_cleaned = remove_outliers_iqr(df, \"No_of_Characters\")\n",
    "df_cleaned = remove_outliers_iqr(df_cleaned, \"No_of_Words\")"
   ]
  },
  {
   "cell_type": "code",
   "execution_count": 11,
   "id": "e07df8fb",
   "metadata": {},
   "outputs": [],
   "source": [
    "lemmatizer = WordNetLemmatizer()\n",
    "\n",
    "# Preprocessing function\n",
    "def preprocess_text(text):\n",
    "    # Convert to lowercase\n",
    "    text = text.lower()\n",
    "        \n",
    "    # Remove non-alphabetical characters but keep numbers and spaces\n",
    "    text = re.sub(r'[^a-z0-9\\s]', '', text)  \n",
    "    \n",
    "    # Tokenize text\n",
    "    words = word_tokenize(text)\n",
    "\n",
    "    # Get POS tags\n",
    "    pos_tags = pos_tag(words)  \n",
    "\n",
    "    # Lemmatize using POS tags\n",
    "    words = [lemmatizer.lemmatize(word, pos='v' if tag.startswith('V') else \n",
    "                                 ('n' if tag.startswith('NN') else \n",
    "                                  ('a' if tag.startswith('JJ') else \n",
    "                                   ('r' if tag.startswith('RB') else 'n'))))\n",
    "            for word, tag in pos_tags]\n",
    "\n",
    "    # Rejoin words into a cleaned sentence\n",
    "    return ' '.join(words)\n",
    "\n",
    "# Apply preprocessing to clean the message\n",
    "df_cleaned['clean_message'] = df_cleaned['message'].apply(preprocess_text)"
   ]
  },
  {
   "cell_type": "code",
   "execution_count": 12,
   "id": "a9208aca",
   "metadata": {},
   "outputs": [],
   "source": [
    "def plot_history(history_list, model_name):\n",
    "    plt.figure(figsize=(12, 6))\n",
    "\n",
    "    # Accuracy Plot\n",
    "    plt.subplot(1, 2, 1)\n",
    "    for history in history_list:\n",
    "        plt.plot(history['val_accuracy'], label=\"Val\")\n",
    "    plt.title(f'{model_name} - Accuracy')\n",
    "    plt.xlabel('Epochs')\n",
    "    plt.ylabel('Accuracy')\n",
    "    plt.legend()\n",
    "\n",
    "    # Loss Plot\n",
    "    plt.subplot(1, 2, 2)\n",
    "    for history in history_list:\n",
    "        plt.plot(history['val_loss'], label=\"Val\")\n",
    "    plt.title(f'{model_name} - Loss')\n",
    "    plt.xlabel('Epochs')\n",
    "    plt.ylabel('Loss')\n",
    "    plt.legend()\n",
    "\n",
    "    plt.tight_layout()\n",
    "    plt.show()"
   ]
  },
  {
   "cell_type": "code",
   "execution_count": 13,
   "id": "4f29189e",
   "metadata": {},
   "outputs": [],
   "source": [
    "def plot_validation_accuracy(history_folds, model_name):\n",
    "    val_accs = [max(hist['val_accuracy']) for hist in history_folds]\n",
    "    plt.plot(range(1, len(val_accs) + 1), val_accs, label=model_name)\n",
    "    plt.xlabel('Fold')\n",
    "    plt.ylabel('Validation Accuracy')\n",
    "    plt.title(f'Validation Accuracy for {model_name}')\n",
    "    plt.xticks(range(1, len(val_accs) + 1))\n",
    "    plt.legend()\n",
    "    plt.show()"
   ]
  },
  {
   "cell_type": "code",
   "execution_count": 33,
   "id": "8ebfcda0",
   "metadata": {},
   "outputs": [],
   "source": [
    "\n",
    "# Set parameters\n",
    "max_words = 5000  # Maximum number of words in the vocabulary\n",
    "max_len = 100  # Maximum length of input sequences\n",
    "embedding_dim = 100  # Dimension of the word embeddings\n",
    "SEED = 42\n",
    "\n",
    "# Initialize the tokenizer and fit it on the text data\n",
    "tokenizer = Tokenizer(num_words=max_words, oov_token=\"<OOV>\")\n",
    "tokenizer.fit_on_texts(df_cleaned['clean_message'])\n",
    "\n",
    "with open('tokenizer.pkl', 'wb') as f:\n",
    "    pickle.dump(tokenizer, f)\n",
    "\n",
    "# Convert text to sequences\n",
    "sequences = tokenizer.texts_to_sequences(df_cleaned['clean_message'])\n",
    "\n",
    "# Pad sequences to ensure uniform input size\n",
    "X = pad_sequences(sequences, maxlen=max_len, padding='post', truncating='post')\n",
    "y = np.array(df_cleaned['label'])\n",
    "\n",
    "# Compute class weights to handle imbalance\n",
    "class_weights = compute_class_weight(class_weight='balanced', classes=np.unique(y), y=y)\n",
    "class_weights_dict = {i: class_weights[i] for i in range(len(class_weights))}"
   ]
  },
  {
   "cell_type": "code",
   "execution_count": 24,
   "id": "564a0c71",
   "metadata": {},
   "outputs": [],
   "source": [
    "def create_gru_model():\n",
    "    model = Sequential([\n",
    "        Embedding(input_dim=max_words, output_dim=embedding_dim),\n",
    "        Bidirectional(GRU(64, return_sequences=True)),\n",
    "        Dropout(0.2),\n",
    "        Bidirectional(GRU(32)),\n",
    "        Dropout(0.2),\n",
    "        Dense(16, activation='relu'),\n",
    "        Dense(1, activation='sigmoid')\n",
    "    ])\n",
    "    model.compile(loss='binary_crossentropy', optimizer='adam', metrics=['accuracy'])\n",
    "    return model"
   ]
  },
  {
   "cell_type": "code",
   "execution_count": 25,
   "id": "f2a8cd57",
   "metadata": {},
   "outputs": [
    {
     "name": "stdout",
     "output_type": "stream",
     "text": [
      "Training GRU for fold 1\n",
      "Epoch 1/5\n",
      "\u001b[1m128/128\u001b[0m \u001b[32m━━━━━━━━━━━━━━━━━━━━\u001b[0m\u001b[37m\u001b[0m \u001b[1m17s\u001b[0m 59ms/step - accuracy: 0.8451 - loss: 0.5149 - val_accuracy: 0.9744 - val_loss: 0.1075\n",
      "Epoch 2/5\n",
      "\u001b[1m128/128\u001b[0m \u001b[32m━━━━━━━━━━━━━━━━━━━━\u001b[0m\u001b[37m\u001b[0m \u001b[1m7s\u001b[0m 53ms/step - accuracy: 0.9769 - loss: 0.1115 - val_accuracy: 0.9754 - val_loss: 0.0981\n",
      "Epoch 3/5\n",
      "\u001b[1m128/128\u001b[0m \u001b[32m━━━━━━━━━━━━━━━━━━━━\u001b[0m\u001b[37m\u001b[0m \u001b[1m7s\u001b[0m 54ms/step - accuracy: 0.9904 - loss: 0.0484 - val_accuracy: 0.9400 - val_loss: 0.1954\n",
      "Epoch 4/5\n",
      "\u001b[1m128/128\u001b[0m \u001b[32m━━━━━━━━━━━━━━━━━━━━\u001b[0m\u001b[37m\u001b[0m \u001b[1m7s\u001b[0m 55ms/step - accuracy: 0.9937 - loss: 0.0248 - val_accuracy: 0.9813 - val_loss: 0.0876\n",
      "Epoch 5/5\n",
      "\u001b[1m128/128\u001b[0m \u001b[32m━━━━━━━━━━━━━━━━━━━━\u001b[0m\u001b[37m\u001b[0m \u001b[1m7s\u001b[0m 54ms/step - accuracy: 0.9956 - loss: 0.0207 - val_accuracy: 0.9813 - val_loss: 0.0904\n",
      "Training GRU for fold 2\n",
      "Epoch 1/5\n",
      "\u001b[1m128/128\u001b[0m \u001b[32m━━━━━━━━━━━━━━━━━━━━\u001b[0m\u001b[37m\u001b[0m \u001b[1m13s\u001b[0m 58ms/step - accuracy: 0.8556 - loss: 0.4980 - val_accuracy: 0.9685 - val_loss: 0.1453\n",
      "Epoch 2/5\n",
      "\u001b[1m128/128\u001b[0m \u001b[32m━━━━━━━━━━━━━━━━━━━━\u001b[0m\u001b[37m\u001b[0m \u001b[1m8s\u001b[0m 59ms/step - accuracy: 0.9740 - loss: 0.1025 - val_accuracy: 0.9803 - val_loss: 0.0679\n",
      "Epoch 3/5\n",
      "\u001b[1m128/128\u001b[0m \u001b[32m━━━━━━━━━━━━━━━━━━━━\u001b[0m\u001b[37m\u001b[0m \u001b[1m7s\u001b[0m 57ms/step - accuracy: 0.9909 - loss: 0.0479 - val_accuracy: 0.9646 - val_loss: 0.1022\n",
      "Epoch 4/5\n",
      "\u001b[1m128/128\u001b[0m \u001b[32m━━━━━━━━━━━━━━━━━━━━\u001b[0m\u001b[37m\u001b[0m \u001b[1m7s\u001b[0m 56ms/step - accuracy: 0.9936 - loss: 0.0206 - val_accuracy: 0.9794 - val_loss: 0.0717\n",
      "Epoch 5/5\n",
      "\u001b[1m128/128\u001b[0m \u001b[32m━━━━━━━━━━━━━━━━━━━━\u001b[0m\u001b[37m\u001b[0m \u001b[1m7s\u001b[0m 56ms/step - accuracy: 0.9974 - loss: 0.0069 - val_accuracy: 0.9823 - val_loss: 0.0834\n",
      "Training GRU for fold 3\n",
      "Epoch 1/5\n",
      "\u001b[1m128/128\u001b[0m \u001b[32m━━━━━━━━━━━━━━━━━━━━\u001b[0m\u001b[37m\u001b[0m \u001b[1m14s\u001b[0m 62ms/step - accuracy: 0.8746 - loss: 0.4936 - val_accuracy: 0.9774 - val_loss: 0.0933\n",
      "Epoch 2/5\n",
      "\u001b[1m128/128\u001b[0m \u001b[32m━━━━━━━━━━━━━━━━━━━━\u001b[0m\u001b[37m\u001b[0m \u001b[1m7s\u001b[0m 54ms/step - accuracy: 0.9858 - loss: 0.0764 - val_accuracy: 0.9843 - val_loss: 0.0695\n",
      "Epoch 3/5\n",
      "\u001b[1m128/128\u001b[0m \u001b[32m━━━━━━━━━━━━━━━━━━━━\u001b[0m\u001b[37m\u001b[0m \u001b[1m7s\u001b[0m 51ms/step - accuracy: 0.9912 - loss: 0.0336 - val_accuracy: 0.9833 - val_loss: 0.0605\n",
      "Epoch 4/5\n",
      "\u001b[1m128/128\u001b[0m \u001b[32m━━━━━━━━━━━━━━━━━━━━\u001b[0m\u001b[37m\u001b[0m \u001b[1m6s\u001b[0m 50ms/step - accuracy: 0.9979 - loss: 0.0120 - val_accuracy: 0.9823 - val_loss: 0.0713\n",
      "Epoch 5/5\n",
      "\u001b[1m128/128\u001b[0m \u001b[32m━━━━━━━━━━━━━━━━━━━━\u001b[0m\u001b[37m\u001b[0m \u001b[1m7s\u001b[0m 52ms/step - accuracy: 0.9995 - loss: 0.0066 - val_accuracy: 0.9853 - val_loss: 0.0753\n",
      "Training GRU for fold 4\n",
      "Epoch 1/5\n",
      "\u001b[1m128/128\u001b[0m \u001b[32m━━━━━━━━━━━━━━━━━━━━\u001b[0m\u001b[37m\u001b[0m \u001b[1m12s\u001b[0m 55ms/step - accuracy: 0.6450 - loss: 0.4861 - val_accuracy: 0.9744 - val_loss: 0.0906\n",
      "Epoch 2/5\n",
      "\u001b[1m128/128\u001b[0m \u001b[32m━━━━━━━━━━━━━━━━━━━━\u001b[0m\u001b[37m\u001b[0m \u001b[1m7s\u001b[0m 51ms/step - accuracy: 0.9753 - loss: 0.1050 - val_accuracy: 0.9695 - val_loss: 0.1115\n",
      "Epoch 3/5\n",
      "\u001b[1m128/128\u001b[0m \u001b[32m━━━━━━━━━━━━━━━━━━━━\u001b[0m\u001b[37m\u001b[0m \u001b[1m7s\u001b[0m 52ms/step - accuracy: 0.9906 - loss: 0.0421 - val_accuracy: 0.9725 - val_loss: 0.0868\n",
      "Epoch 4/5\n",
      "\u001b[1m128/128\u001b[0m \u001b[32m━━━━━━━━━━━━━━━━━━━━\u001b[0m\u001b[37m\u001b[0m \u001b[1m7s\u001b[0m 52ms/step - accuracy: 0.9918 - loss: 0.0299 - val_accuracy: 0.9784 - val_loss: 0.0791\n",
      "Epoch 5/5\n",
      "\u001b[1m128/128\u001b[0m \u001b[32m━━━━━━━━━━━━━━━━━━━━\u001b[0m\u001b[37m\u001b[0m \u001b[1m7s\u001b[0m 54ms/step - accuracy: 0.9949 - loss: 0.0175 - val_accuracy: 0.9813 - val_loss: 0.0853\n",
      "Training GRU for fold 5\n",
      "Epoch 1/5\n",
      "\u001b[1m128/128\u001b[0m \u001b[32m━━━━━━━━━━━━━━━━━━━━\u001b[0m\u001b[37m\u001b[0m \u001b[1m13s\u001b[0m 61ms/step - accuracy: 0.8848 - loss: 0.5072 - val_accuracy: 0.9695 - val_loss: 0.1003\n",
      "Epoch 2/5\n",
      "\u001b[1m128/128\u001b[0m \u001b[32m━━━━━━━━━━━━━━━━━━━━\u001b[0m\u001b[37m\u001b[0m \u001b[1m7s\u001b[0m 57ms/step - accuracy: 0.9749 - loss: 0.0999 - val_accuracy: 0.9774 - val_loss: 0.0807\n",
      "Epoch 3/5\n",
      "\u001b[1m128/128\u001b[0m \u001b[32m━━━━━━━━━━━━━━━━━━━━\u001b[0m\u001b[37m\u001b[0m \u001b[1m7s\u001b[0m 58ms/step - accuracy: 0.9944 - loss: 0.0328 - val_accuracy: 0.9754 - val_loss: 0.0864\n",
      "Epoch 4/5\n",
      "\u001b[1m128/128\u001b[0m \u001b[32m━━━━━━━━━━━━━━━━━━━━\u001b[0m\u001b[37m\u001b[0m \u001b[1m8s\u001b[0m 63ms/step - accuracy: 0.9982 - loss: 0.0129 - val_accuracy: 0.9774 - val_loss: 0.0933\n",
      "Epoch 5/5\n",
      "\u001b[1m128/128\u001b[0m \u001b[32m━━━━━━━━━━━━━━━━━━━━\u001b[0m\u001b[37m\u001b[0m \u001b[1m8s\u001b[0m 61ms/step - accuracy: 0.9993 - loss: 0.0096 - val_accuracy: 0.9803 - val_loss: 0.0928\n"
     ]
    }
   ],
   "source": [
    "# Prepare StratifiedKFold cross-validation\n",
    "kf = StratifiedKFold(n_splits=5, shuffle=True, random_state=SEED)\n",
    "\n",
    "history_gru_folds = []\n",
    "\n",
    "best_gru_val_acc = 0\n",
    "best_gru_model = None\n",
    "\n",
    "# Iterate through folds and perform cross-validation for both LSTM and GRU\n",
    "for fold, (train_index, val_index) in enumerate(kf.split(X,y), 1):\n",
    "    X_train, X_val = X[train_index], X[val_index]\n",
    "    y_train, y_val = y[train_index], y[val_index]\n",
    "    \n",
    "    # Initialize and fit GRU model\n",
    "    gru_model = create_gru_model()\n",
    "    print(f\"Training GRU for fold {fold}\")\n",
    "    history_gru = gru_model.fit(X_train, y_train, validation_data=(X_val, y_val), epochs=5, batch_size=32, class_weight=class_weights_dict)\n",
    "    history_gru_folds.append(history_gru.history)\n",
    "    \n",
    "    # Track best GRU model based on validation accuracy\n",
    "    val_acc_gru = max(history_gru.history['val_accuracy'])\n",
    "    if val_acc_gru > best_gru_val_acc:\n",
    "        best_gru_val_acc = val_acc_gru\n",
    "        best_gru_model = gru_model"
   ]
  },
  {
   "cell_type": "code",
   "execution_count": 28,
   "id": "6312e1d5",
   "metadata": {},
   "outputs": [
    {
     "data": {
      "image/png": "[encoded data removed]",
      "text/plain": [
       "<Figure size 640x480 with 1 Axes>"
      ]
     },
     "metadata": {},
     "output_type": "display_data"
    }
   ],
   "source": [
    "plot_validation_accuracy(history_gru_folds, \"GRU\")"
   ]
  },
  {
   "cell_type": "code",
   "execution_count": 29,
   "id": "548719bb",
   "metadata": {},
   "outputs": [],
   "source": [
    "def plot_confusion_matrix(y_true, y_pred, title):\n",
    "    cm = confusion_matrix(y_true, y_pred)\n",
    "    plt.figure(figsize=(5, 4))\n",
    "    sns.heatmap(cm, annot=True, fmt='d', cmap='Blues', xticklabels=['Ham', 'Spam'], yticklabels=['Ham', 'Spam'])\n",
    "    plt.xlabel(\"Predicted Label\")\n",
    "    plt.ylabel(\"True Label\")\n",
    "    plt.title(title)\n",
    "    plt.show()"
   ]
  },
  {
   "cell_type": "code",
   "execution_count": 30,
   "id": "31b6e6d7",
   "metadata": {},
   "outputs": [
    {
     "name": "stdout",
     "output_type": "stream",
     "text": [
      "\u001b[1m32/32\u001b[0m \u001b[32m━━━━━━━━━━━━━━━━━━━━\u001b[0m\u001b[37m\u001b[0m \u001b[1m2s\u001b[0m 34ms/step\n",
      "Confusion Matrix for Best GRU Model\n"
     ]
    },
    {
     "data": {
      "image/png": "[encoded data removed]",
      "text/plain": [
       "<Figure size 500x400 with 2 Axes>"
      ]
     },
     "metadata": {},
     "output_type": "display_data"
    }
   ],
   "source": [
    "y_pred_gru=best_gru_model.predict(X_val)\n",
    "y_pred_gru=(y_pred_gru>0.5).astype(int)\n",
    "\n",
    "# Plot confusion matrix for best GRU model\n",
    "print(\"Confusion Matrix for Best GRU Model\")\n",
    "plot_confusion_matrix( y_val,y_pred_gru, \"GRU\")"
   ]
  },
  {
   "cell_type": "code",
   "execution_count": 31,
   "id": "25dddb6c",
   "metadata": {},
   "outputs": [
    {
     "name": "stderr",
     "output_type": "stream",
     "text": [
      "WARNING:absl:You are saving your model as an HDF5 file via `model.save()` or `keras.saving.save_model(model)`. This file format is considered legacy. We recommend using instead the native Keras format, e.g. `model.save('my_model.keras')` or `keras.saving.save_model(model, 'my_model.keras')`. \n"
     ]
    },
    {
     "name": "stdout",
     "output_type": "stream",
     "text": [
      "Model saved successfully!\n"
     ]
    }
   ],
   "source": [
    "best_gru_model.save('best_gru_model.h5')\n",
    "print(\"Model saved successfully!\")"
   ]
  },
  {
   "cell_type": "code",
   "execution_count": null,
   "id": "e721d6de",
   "metadata": {},
   "outputs": [],
   "source": [
    "from tensorflow.keras.models import load_model\n",
    "\n",
    "# Load the model\n",
    "model = load_model('best_gru_model.h5')\n",
    "\n",
    "# Predict\n",
    "predictions = model.predict(X_test)"
   ]
  }
 ],
 "metadata": {
  "kernelspec": {
   "display_name": "spamDetection",
   "language": "python",
   "name": "python3"
  },
  "language_info": {
   "codemirror_mode": {
    "name": "ipython",
    "version": 3
   },
   "file_extension": ".py",
   "mimetype": "text/x-python",
   "name": "python",
   "nbconvert_exporter": "python",
   "pygments_lexer": "ipython3",
   "version": "3.12.1"
  }
 },
 "nbformat": 4,
 "nbformat_minor": 5
}
